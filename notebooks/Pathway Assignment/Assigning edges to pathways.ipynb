{
 "cells": [
  {
   "cell_type": "markdown",
   "metadata": {},
   "source": [
    "# Assigning Pathways\n",
    "\n",
    "During NeuroMMSig v1.0, pathways were manually assigned to each edge. For v2.0, we would like to automate this process first with a rule based system, then a machine learning system for prioritizing curation before resorting to manual curation."
   ]
  },
  {
   "cell_type": "markdown",
   "metadata": {},
   "source": [
    "## Preamble\n",
    "\n",
    "### Imports"
   ]
  },
  {
   "cell_type": "code",
   "execution_count": 1,
   "metadata": {},
   "outputs": [],
   "source": [
    "import getpass\n",
    "import itertools as itt\n",
    "import os\n",
    "import random\n",
    "import sys\n",
    "import time\n",
    "import textwrap\n",
    "from collections import defaultdict\n",
    "\n",
    "import bio2bel_hgnc\n",
    "import bio2bel_mgi\n",
    "import bio2bel_wikipathways\n",
    "import hbp_knowledge\n",
    "import pybel\n",
    "from bio2bel_hgnc.models import gene_mouse_gene\n",
    "from IPython.display import Markdown\n",
    "from pybel.dsl import BaseAbundance, ListAbundance\n",
    "from pybel_tools.pathway_assigner import PathwayAssigner"
   ]
  },
  {
   "cell_type": "markdown",
   "metadata": {},
   "source": [
    "### Utilities"
   ]
  },
  {
   "cell_type": "code",
   "execution_count": 2,
   "metadata": {},
   "outputs": [],
   "source": [
    "def show_doc(f):\n",
    "    return Markdown(textwrap.dedent(f.__doc__.split('\\n', 1)[1]))"
   ]
  },
  {
   "cell_type": "markdown",
   "metadata": {},
   "source": [
    "### Environment"
   ]
  },
  {
   "cell_type": "code",
   "execution_count": 3,
   "metadata": {},
   "outputs": [
    {
     "name": "stdout",
     "output_type": "stream",
     "text": [
      "Tue Aug 20 11:53:51 2019\n"
     ]
    }
   ],
   "source": [
    "print(time.asctime())"
   ]
  },
  {
   "cell_type": "code",
   "execution_count": 4,
   "metadata": {},
   "outputs": [
    {
     "name": "stdout",
     "output_type": "stream",
     "text": [
      "3.7.3 (default, Mar 27 2019, 09:23:39) \n",
      "[Clang 10.0.0 (clang-1000.11.45.5)]\n"
     ]
    }
   ],
   "source": [
    "print(sys.version)"
   ]
  },
  {
   "cell_type": "code",
   "execution_count": 5,
   "metadata": {},
   "outputs": [
    {
     "name": "stdout",
     "output_type": "stream",
     "text": [
      "cthoyt\n"
     ]
    }
   ],
   "source": [
    "print(getpass.getuser())"
   ]
  },
  {
   "cell_type": "code",
   "execution_count": 6,
   "metadata": {},
   "outputs": [
    {
     "data": {
      "text/plain": [
       "'0.13.3-dev'"
      ]
     },
     "execution_count": 6,
     "metadata": {},
     "output_type": "execute_result"
    }
   ],
   "source": [
    "pybel.get_version()"
   ]
  },
  {
   "cell_type": "code",
   "execution_count": 7,
   "metadata": {},
   "outputs": [
    {
     "name": "stdout",
     "output_type": "stream",
     "text": [
      "0.0.7\n"
     ]
    }
   ],
   "source": [
    "print(hbp_knowledge.VERSION)"
   ]
  },
  {
   "cell_type": "code",
   "execution_count": 8,
   "metadata": {},
   "outputs": [
    {
     "name": "stdout",
     "output_type": "stream",
     "text": [
      "0.2.4-dev\n"
     ]
    }
   ],
   "source": [
    "print(bio2bel_wikipathways.get_version())"
   ]
  },
  {
   "cell_type": "markdown",
   "metadata": {},
   "source": [
    "### Data"
   ]
  },
  {
   "cell_type": "code",
   "execution_count": 9,
   "metadata": {},
   "outputs": [
    {
     "name": "stdout",
     "output_type": "stream",
     "text": [
      "Human Brain Pharmacome Knowledge v0.0.7\n",
      "Number of Nodes: 6023\n",
      "Number of Edges: 21625\n",
      "Number of Citations: 358\n",
      "Number of Authors: 2012\n",
      "Network Density: 5.96E-04\n",
      "Number of Components: 31\n",
      "Number of Warnings: 35\n"
     ]
    }
   ],
   "source": [
    "graph = hbp_knowledge.get_graph()\n",
    "graph.summarize()"
   ]
  },
  {
   "cell_type": "markdown",
   "metadata": {},
   "source": [
    "## Assigning Pathways\n",
    "\n",
    "Generate mappings from a given database to HGNC gene identifiers."
   ]
  },
  {
   "cell_type": "code",
   "execution_count": 10,
   "metadata": {},
   "outputs": [
    {
     "data": {
      "text/plain": [
       "{'pathways': 556, 'proteins': 6613}"
      ]
     },
     "execution_count": 10,
     "metadata": {},
     "output_type": "execute_result"
    }
   ],
   "source": [
    "wikipathways_manager = bio2bel_wikipathways.Manager()\n",
    "wikipathways_manager.summarize()"
   ]
  },
  {
   "cell_type": "code",
   "execution_count": 11,
   "metadata": {},
   "outputs": [
    {
     "name": "stdout",
     "output_type": "stream",
     "text": [
      "could not find MGI:5592748\n",
      "could not find MGI:6278009\n",
      "could not find MGI:1918096\n"
     ]
    },
    {
     "data": {
      "text/plain": [
       "<pybel_tools.pathway_assigner.PathwayAssigner at 0x124de4b70>"
      ]
     },
     "execution_count": 11,
     "metadata": {},
     "output_type": "execute_result"
    }
   ],
   "source": [
    "managers = [\n",
    "    wikipathways_manager,\n",
    "]\n",
    "\n",
    "assigner = PathwayAssigner(\n",
    "    graph=graph, \n",
    "    managers=managers,\n",
    "    mgi_cache_path='mgi_symbol_to_hgnc_symbol.json',\n",
    "    rgd_cache_path='rgd_symbol_to_hgnc_symbol.json',\n",
    ")\n",
    "assigner"
   ]
  },
  {
   "cell_type": "markdown",
   "metadata": {},
   "source": [
    "### Assigning Gene-Gene Edges"
   ]
  },
  {
   "cell_type": "code",
   "execution_count": 12,
   "metadata": {},
   "outputs": [
    {
     "data": {
      "text/markdown": [
       "\n",
       "1. Identify if subject and object are both gene nodes. If they are orthologs, try and map them to HGNC.\n",
       "2. `If` the subject and object in an edge are both in a canonical pathway, then the edge gets assigned to the\n",
       "   pathway.\n",
       "3. `Else if` only one of the subject and the object in the edge have been assigned in the pathway:\n",
       "  1. `If` the edge is an ontological edge, than add it to the pathway\n",
       "  2. `If` there are other edges in the pathway mentioned in the same article, assign the edge to the pathway\n",
       "  3. `Else` leave for manual curation\n",
       "4. `Else if` neither of the nodes are assigned to the pathway, but both nodes are connected to nodes in the\n",
       "   pathway by directed edges, assign both edge to the pathway as well as incident edges\n",
       "5. `Else` the nodes don't get assigned to the pathway\n"
      ],
      "text/plain": [
       "<IPython.core.display.Markdown object>"
      ]
     },
     "execution_count": 12,
     "metadata": {},
     "output_type": "execute_result"
    }
   ],
   "source": [
    "show_doc(assigner.annotate_gene_gene)"
   ]
  },
  {
   "cell_type": "code",
   "execution_count": 13,
   "metadata": {},
   "outputs": [
    {
     "name": "stdout",
     "output_type": "stream",
     "text": [
      "Made 11710 annotations\n"
     ]
    }
   ],
   "source": [
    "c = assigner.annotate_gene_gene()\n",
    "print(f'Made {c} annotations')"
   ]
  },
  {
   "cell_type": "markdown",
   "metadata": {},
   "source": [
    "### Assigning Chemical/Biological Process/Disease - HGNC edges"
   ]
  },
  {
   "cell_type": "code",
   "execution_count": 14,
   "metadata": {},
   "outputs": [
    {
     "data": {
      "text/markdown": [
       "\n",
       "1. Identify if subject or object are a gene nodes. If they are orthologs, try and map them to HGNC.\n",
       "2. If an entity is related to a gene in a pathway, then that edge gets annotated to the pathway\n"
      ],
      "text/plain": [
       "<IPython.core.display.Markdown object>"
      ]
     },
     "execution_count": 14,
     "metadata": {},
     "output_type": "execute_result"
    }
   ],
   "source": [
    "show_doc(assigner.annotate_gene_other)"
   ]
  },
  {
   "cell_type": "code",
   "execution_count": 15,
   "metadata": {},
   "outputs": [
    {
     "name": "stdout",
     "output_type": "stream",
     "text": [
      "Made 71134 annotations\n"
     ]
    }
   ],
   "source": [
    "c = assigner.annotate_gene_other()\n",
    "print(f'Made {c} annotations')"
   ]
  },
  {
   "cell_type": "markdown",
   "metadata": {},
   "source": [
    "### Assigning Tangential Nodes"
   ]
  },
  {
   "cell_type": "code",
   "execution_count": 16,
   "metadata": {},
   "outputs": [
    {
     "data": {
      "text/markdown": [
       "\n",
       "If an edge has only one node that appears in a pathway, but that pathway has already been mentioned in the\n",
       "paper, then it gets annotated to that pathway too.\n"
      ],
      "text/plain": [
       "<IPython.core.display.Markdown object>"
      ]
     },
     "execution_count": 16,
     "metadata": {},
     "output_type": "execute_result"
    }
   ],
   "source": [
    "show_doc(assigner.annotate_by_document)"
   ]
  },
  {
   "cell_type": "code",
   "execution_count": 17,
   "metadata": {},
   "outputs": [
    {
     "name": "stdout",
     "output_type": "stream",
     "text": [
      "Made 75530 annotations\n"
     ]
    }
   ],
   "source": [
    "c = assigner.annotate_by_document()\n",
    "print(f'Made {c} annotations')"
   ]
  },
  {
   "cell_type": "markdown",
   "metadata": {},
   "source": [
    "### Assigning Complexes"
   ]
  },
  {
   "cell_type": "code",
   "execution_count": 18,
   "metadata": {},
   "outputs": [
    {
     "data": {
      "text/markdown": [
       "\n",
       "If two or more members of a complex are in a pathway, then the whole complex and all of its partOf\n",
       "relationships will get assigned to that pathway.\n"
      ],
      "text/plain": [
       "<IPython.core.display.Markdown object>"
      ]
     },
     "execution_count": 18,
     "metadata": {},
     "output_type": "execute_result"
    }
   ],
   "source": [
    "show_doc(assigner.annotate_complexes)"
   ]
  },
  {
   "cell_type": "code",
   "execution_count": 19,
   "metadata": {},
   "outputs": [
    {
     "name": "stdout",
     "output_type": "stream",
     "text": [
      "Made 9918 annotations\n"
     ]
    }
   ],
   "source": [
    "c = assigner.annotate_complexes()\n",
    "print(f'Made {c} annotations')"
   ]
  },
  {
   "cell_type": "markdown",
   "metadata": {},
   "source": [
    "### Investigating what's Left\n",
    "\n",
    "- Dealing with orthologs\n",
    "- Reasoning over hierarchical relations (isA, partOf, hasMember)\n",
    "- Protein complex membership for GO cellular components\n",
    "- Checking protein families\n",
    "- Annotation of GO cellular components to pathways\n",
    "- Reactions - need to enrich with connections to biological processes in GO or annotate based on any enzymes that they interact with."
   ]
  },
  {
   "cell_type": "code",
   "execution_count": 20,
   "metadata": {},
   "outputs": [
    {
     "name": "stdout",
     "output_type": "stream",
     "text": [
      "10216 (47.24%) of 21625 edges were annotated\n",
      "There are 11409 unannotated edges\n",
      "\n",
      "Examples of unannotated nodes:\n",
      "\n",
      "b640ac6b a(CHEBI:Anatabine) decreases a(CHEBI:\"amyloid-beta polypeptide 42\")\n",
      "a5e9f48d a(CHEBI:\"amyloid-beta polypeptide 42\") decreases bp(MESH:Neuroprotection)\n",
      "83fc97b2 p(HGNC:TTBK2) decreases surf(p(HGNC:GRIK2))\n",
      "b48dd5e0 act(p(FPLX:PKA)) increases act(complex(GO:\"proteasome complex\"))\n",
      "0b2a209d p(HGNCGENEFAMILY:Aminopeptidases) hasMember p(HGNC:ENPEP)\n",
      "bf5d462e p(HGNC:PPME1) decreases p(HGNC:PPP2CA, pmod(Me, Leu, 309))\n",
      "94358693 p(HGNC:BAG3) directlyIncreases complex(p(HGNC:BAG3), p(HGNC:DCP1B))\n",
      "66505084 p(CONSO:\"UBB+1\") hasVariant p(CONSO:\"UBB+1\", pmod(Ub))\n",
      "cfb887ab a(CHEBI:tanespimycin) decreases act(p(FPLX:HSP90))\n",
      "249ed0c3 complex(p(MGI:\"avian reticuloendotheliosis viral (v-rel) oncogene related B\"), p(MGI:\"nuclear factor of kappa light polypeptide gene enhancer in B cells 1, p105\")) increases p(MGI:\"chitinase-like 1\")\n",
      "c242a9a0 a(MESH:Prions) increases path(MESH:\"Prion Diseases\")\n",
      "ec05c682 path(MESH:\"Alzheimer Disease\") negativeCorrelation p(FPLX:PPP2, pmod(Me))\n",
      "72a9b25b complex(p(HGNC:CHRNA7), p(HGNC:FLNA)) hasComponent p(HGNC:CHRNA7)\n",
      "d0b1e725 act(p(HGNC:CDK2), ma(kin)) directlyIncreases p(HGNC:MAPT, pmod(Ph, Ser, 235))\n",
      "83e7db45 p(HGNC:CDK2) directlyIncreases p(HGNC:MAPT, pmod(Ph, Ser, 235))\n",
      "\n",
      "3663 (60.82%) of 6023 nodes were annotated\n",
      "There are 2360 unannotated nodes\n",
      "\n",
      "Examples of unannotated nodes:\n",
      "\n",
      "p(CONSO:\"Tau isoform D (383 aa)\", pmod(Ph, Ser, 409))\n",
      "bp(MESH:Metabolism)\n",
      "a(MESH:\"Basal Nucleus of Meynert\")\n",
      "complex(p(CONSO:\"VQIVYK motif\"), p(CONSO:\"VQIVYK motif\"))\n",
      "a(CHEBI:nitrotyrosine)\n",
      "bp(GO:\"neuron projection maintenance\")\n",
      "p(MGI:Fkbp1b)\n",
      "g(HGNC:OGA, var(\"?\"))\n",
      "p(HGNC:P2RX7)\n",
      "p(HGNC:BAG5)\n",
      "p(HGNC:DNMBP)\n",
      "path(HP:\"Abnormality of the cerebral subcortex\")\n",
      "a(CHEBI:\"low-density lipoprotein cholesterol\")\n",
      "a(CHEBI:\"5-chloro-7-iodoquinolin-8-ol\")\n",
      "p(HGNC:CD82)\n"
     ]
    }
   ],
   "source": [
    "assigner.summarize()"
   ]
  },
  {
   "cell_type": "markdown",
   "metadata": {},
   "source": [
    "### Print Results"
   ]
  },
  {
   "cell_type": "code",
   "execution_count": 21,
   "metadata": {},
   "outputs": [],
   "source": [
    "# Print results to files\n",
    "tsv_path, rst_path = 'assignments.tsv', 'assignments.rst'\n",
    "assigner.to_file(tsv_path, rst_path)"
   ]
  }
 ],
 "metadata": {
  "kernelspec": {
   "display_name": "Python 3",
   "language": "python",
   "name": "python3"
  },
  "language_info": {
   "codemirror_mode": {
    "name": "ipython",
    "version": 3
   },
   "file_extension": ".py",
   "mimetype": "text/x-python",
   "name": "python",
   "nbconvert_exporter": "python",
   "pygments_lexer": "ipython3",
   "version": "3.7.3"
  }
 },
 "nbformat": 4,
 "nbformat_minor": 2
}
