{
 "cells": [
  {
   "cell_type": "markdown",
   "metadata": {},
   "source": [
    "# Assigning Pathways\n",
    "\n",
    "During NeuroMMSig v1.0, pathways were manually assigned to each edge. For v2.0, we would like to automate this process first with a rule based system, then a machine learning system for prioritizing curation before resorting to manual curation."
   ]
  },
  {
   "cell_type": "markdown",
   "metadata": {},
   "source": [
    "## Preamble\n",
    "\n",
    "### Imports"
   ]
  },
  {
   "cell_type": "code",
   "execution_count": 1,
   "metadata": {},
   "outputs": [],
   "source": [
    "import getpass\n",
    "import itertools as itt\n",
    "import os\n",
    "import random\n",
    "import sys\n",
    "import time\n",
    "from collections import defaultdict\n",
    "\n",
    "import bio2bel_wikipathways\n",
    "import hbp_knowledge\n",
    "import pybel\n",
    "from pybel.dsl import BaseAbundance, ListAbundance"
   ]
  },
  {
   "cell_type": "markdown",
   "metadata": {},
   "source": [
    "### Environment"
   ]
  },
  {
   "cell_type": "code",
   "execution_count": 2,
   "metadata": {},
   "outputs": [
    {
     "name": "stdout",
     "output_type": "stream",
     "text": [
      "Fri Aug 16 16:21:12 2019\n"
     ]
    }
   ],
   "source": [
    "print(time.asctime())"
   ]
  },
  {
   "cell_type": "code",
   "execution_count": 3,
   "metadata": {},
   "outputs": [
    {
     "name": "stdout",
     "output_type": "stream",
     "text": [
      "3.7.3 (default, Mar 27 2019, 09:23:39) \n",
      "[Clang 10.0.0 (clang-1000.11.45.5)]\n"
     ]
    }
   ],
   "source": [
    "print(sys.version)"
   ]
  },
  {
   "cell_type": "code",
   "execution_count": 4,
   "metadata": {},
   "outputs": [
    {
     "name": "stdout",
     "output_type": "stream",
     "text": [
      "cthoyt\n"
     ]
    }
   ],
   "source": [
    "print(getpass.getuser())"
   ]
  },
  {
   "cell_type": "code",
   "execution_count": 5,
   "metadata": {},
   "outputs": [
    {
     "data": {
      "text/plain": [
       "'0.13.3-dev'"
      ]
     },
     "execution_count": 5,
     "metadata": {},
     "output_type": "execute_result"
    }
   ],
   "source": [
    "pybel.get_version()"
   ]
  },
  {
   "cell_type": "code",
   "execution_count": 6,
   "metadata": {},
   "outputs": [
    {
     "name": "stdout",
     "output_type": "stream",
     "text": [
      "0.0.7\n"
     ]
    }
   ],
   "source": [
    "print(hbp_knowledge.VERSION)"
   ]
  },
  {
   "cell_type": "code",
   "execution_count": 7,
   "metadata": {},
   "outputs": [
    {
     "name": "stdout",
     "output_type": "stream",
     "text": [
      "0.2.4-dev\n"
     ]
    }
   ],
   "source": [
    "print(bio2bel_wikipathways.get_version())"
   ]
  },
  {
   "cell_type": "markdown",
   "metadata": {},
   "source": [
    "### Data"
   ]
  },
  {
   "cell_type": "code",
   "execution_count": 8,
   "metadata": {},
   "outputs": [
    {
     "name": "stdout",
     "output_type": "stream",
     "text": [
      "Human Brain Pharmacome Knowledge v0.0.7\n",
      "Number of Nodes: 6023\n",
      "Number of Edges: 21625\n",
      "Number of Citations: 358\n",
      "Number of Authors: 2012\n",
      "Network Density: 5.96E-04\n",
      "Number of Components: 31\n",
      "Number of Warnings: 35\n"
     ]
    }
   ],
   "source": [
    "graph = hbp_knowledge.get_graph()\n",
    "graph.summarize()"
   ]
  },
  {
   "cell_type": "markdown",
   "metadata": {},
   "source": [
    "## Assigning Pathways\n",
    "\n",
    "Generate mappings from a given database to HGNC gene identifiers."
   ]
  },
  {
   "cell_type": "code",
   "execution_count": 9,
   "metadata": {},
   "outputs": [
    {
     "data": {
      "text/plain": [
       "{'pathways': 556, 'proteins': 6613}"
      ]
     },
     "execution_count": 9,
     "metadata": {},
     "output_type": "execute_result"
    }
   ],
   "source": [
    "wikipathways_manager = bio2bel_wikipathways.Manager()\n",
    "wikipathways_manager.summarize()"
   ]
  },
  {
   "cell_type": "code",
   "execution_count": 10,
   "metadata": {
    "scrolled": true
   },
   "outputs": [],
   "source": [
    "pathway_to_symbols = {\n",
    "    (pathway.wikipathways_id, pathway.name): {\n",
    "        protein.hgnc_symbol\n",
    "        for protein in pathway.proteins\n",
    "    }\n",
    "    for pathway in wikipathways_manager._query_pathway().all()\n",
    "}"
   ]
  },
  {
   "cell_type": "code",
   "execution_count": 11,
   "metadata": {},
   "outputs": [],
   "source": [
    "pathway_to_key = defaultdict(set)\n",
    "double_annotated = defaultdict(lambda: defaultdict(list))"
   ]
  },
  {
   "cell_type": "markdown",
   "metadata": {},
   "source": [
    "### Assigning HGNC-HGNC Edges\n",
    "\n",
    "1. `If` the subject and object in an edge are both in a canonical pathway, then the edge gets assigned to the pathway.\n",
    "2. `Else if` only one of the subject and the object in the edge have been assigned in the pathway:\n",
    "  1. `If` the edge is an ontological edge, than add it to the pathway\n",
    "  2. `If` there are other edges in the pathway mentioned in the same article, assign the edge to the pathway\n",
    "  3. `Else` leave for manual curation\n",
    "3. `Else if` neither of the nodes are assigned to the pathway, but both nodes are connected to nodes in the pathway by directed edges, assign both edge to the pathway as well as incident edges\n",
    "4. `Else` the nodes don't get assigned to the pathway"
   ]
  },
  {
   "cell_type": "code",
   "execution_count": 12,
   "metadata": {},
   "outputs": [
    {
     "name": "stdout",
     "output_type": "stream",
     "text": [
      "Made 9423 annotations\n"
     ]
    }
   ],
   "source": [
    "c = 0\n",
    "\n",
    "for u, v, k, d in graph.edges(keys=True, data=True):\n",
    "    if not isinstance(u, BaseAbundance) or not isinstance(v, BaseAbundance):\n",
    "        continue\n",
    "    \n",
    "    if u.namespace.lower() != 'hgnc' or v.namespace.lower() != 'hgnc':\n",
    "        continue\n",
    "    \n",
    "    u_name, v_name = u.name, v.name\n",
    "\n",
    "    for (pathway_id, pathway), symbols in pathway_to_symbols.items():\n",
    "        if u_name in symbols and v_name in symbols:\n",
    "            double_annotated['wikipathways', pathway_id, pathway][tuple(sorted([u_name, v_name]))].append((u, v, k, d))\n",
    "            pathway_to_key['wikipathways', pathway_id, pathway].add(k)\n",
    "            c += 1\n",
    "            \n",
    "print(f'Made {c} annotations')"
   ]
  },
  {
   "cell_type": "markdown",
   "metadata": {},
   "source": [
    "### Assigning Chemical/Biological Process/Disese - HGNC edges\n",
    "\n",
    "`If` an entity is related to a gene in a pathway, then that edge gets annotated to the pathway"
   ]
  },
  {
   "cell_type": "code",
   "execution_count": 13,
   "metadata": {},
   "outputs": [
    {
     "name": "stdout",
     "output_type": "stream",
     "text": [
      "Made 62318 annotations\n"
     ]
    }
   ],
   "source": [
    "c = 0\n",
    "\n",
    "for u, v, k, d in graph.edges(keys=True, data=True):\n",
    "    if not isinstance(u, BaseAbundance) or not isinstance(v, BaseAbundance):\n",
    "        continue\n",
    "\n",
    "    if u.namespace.lower() == 'hgnc' and v.namespace.lower() != 'hgnc':\n",
    "        gene_name = u.name\n",
    "        other_name = v.name\n",
    "    elif u.namespace.lower() != 'hgnc' and v.namespace.lower() == 'hgnc':\n",
    "        gene_name = v.name\n",
    "        other_name = u.name\n",
    "    else:\n",
    "        continue\n",
    "\n",
    "    for (pathway_id, pathway), symbols in pathway_to_symbols.items():\n",
    "        if gene_name in symbols:\n",
    "            double_annotated['wikipathways', pathway_id, pathway][tuple(sorted([gene_name, other_name]))].append((u, v, k, d))\n",
    "            pathway_to_key['wikipathways', pathway_id, pathway].add(k)\n",
    "            c += 1\n",
    "            \n",
    "print(f'Made {c} annotations')"
   ]
  },
  {
   "cell_type": "markdown",
   "metadata": {},
   "source": [
    "### Assigning Complexes\n",
    "\n",
    "If two or more members of a complex are in a pathway, then the whole complex and all of its partOf relationships will get assigned to that pathway."
   ]
  },
  {
   "cell_type": "code",
   "execution_count": 14,
   "metadata": {},
   "outputs": [
    {
     "name": "stdout",
     "output_type": "stream",
     "text": [
      "Made 9398 annotations\n"
     ]
    }
   ],
   "source": [
    "c = 0\n",
    "for node in graph:\n",
    "    if not isinstance(node, ListAbundance):\n",
    "        continue\n",
    "    \n",
    "    hgnc_count = sum(\n",
    "        member.namespace.lower() == 'hgnc'\n",
    "        for member in node.members\n",
    "        if isinstance(member, BaseAbundance)\n",
    "    )\n",
    "    \n",
    "    if 0 == hgnc_count:\n",
    "        continue\n",
    "\n",
    "    for (pathway_id, pathway), symbols in pathway_to_symbols.items():\n",
    "        in_count = sum(\n",
    "            member.name in symbols\n",
    "            for member in node.members\n",
    "            if isinstance(member, BaseAbundance) and member.namespace.lower() == 'hgnc'\n",
    "        )\n",
    "        \n",
    "        do_it = (\n",
    "            (1 == hgnc_count and 1 == in_count)  # Other stuff going on, lets do it\n",
    "            or 2 <= in_count  # enough is going on\n",
    "        \n",
    "        )\n",
    "        \n",
    "        if not do_it:\n",
    "            continue\n",
    "        \n",
    "        for u, v, k, d in graph.edges(node, keys=True, data=True):\n",
    "            double_annotated['wikipathways', pathway_id, pathway][node].append((u, v, k, d))\n",
    "            pathway_to_key['wikipathways', pathway_id, pathway].add(k)\n",
    "            c += 1\n",
    "            \n",
    "print(f'Made {c} annotations')"
   ]
  },
  {
   "cell_type": "markdown",
   "metadata": {},
   "source": [
    "### Print Results"
   ]
  },
  {
   "cell_type": "code",
   "execution_count": 15,
   "metadata": {},
   "outputs": [],
   "source": [
    "with open('assignments.tsv', 'w') as file, open('assignments.rst', 'w') as log_file:\n",
    "    print('database', 'pathway_id', 'pathway_name', 'key', 'bel', sep='\\t', file=file)\n",
    "    for (db, pathway_id, pathway), names_dict in double_annotated.items():\n",
    "        title = f'{db}:{pathway_id} - {pathway}'\n",
    "        print(title, file=log_file)\n",
    "        print('=' * len(title), file=log_file)\n",
    "\n",
    "        for node_key, keys_and_data in names_dict.items():\n",
    "            print('', file=log_file)\n",
    "            print(node_key, file=log_file)\n",
    "            l = len(str(node_key))\n",
    "            print('-' * l, file=log_file)\n",
    "            for u, v, key, data in keys_and_data:\n",
    "                print('-', key[:8], graph.edge_to_bel(u, v, data), file=log_file)\n",
    "                print(db, pathway_id, pathway, key, graph.edge_to_bel(u, v, data), sep='\\t', file=file)\n",
    "\n",
    "        print('', file=log_file)"
   ]
  },
  {
   "cell_type": "code",
   "execution_count": 16,
   "metadata": {},
   "outputs": [
    {
     "name": "stdout",
     "output_type": "stream",
     "text": [
      "8726 (40.35%) of 21625 edges were annotated\n"
     ]
    }
   ],
   "source": [
    "annotated_edge_keys = set(itt.chain.from_iterable(pathway_to_key.values()))\n",
    "n_edges_annotated = len(annotated_edge_keys)\n",
    "\n",
    "print(f'{n_edges_annotated} ({n_edges_annotated / graph.number_of_edges():.2%}) of {graph.number_of_edges()} edges were annotated')"
   ]
  },
  {
   "cell_type": "markdown",
   "metadata": {},
   "source": [
    "### Investigating what's Left\n",
    "\n",
    "- Dealing with orthologs\n",
    "- Reasoning over hierarchical relations (isA, partOf, hasMember)\n",
    "- Protein complex membership for GO cellular components\n",
    "- Checking protein families\n",
    "- Annotation of GO cellular components to pathways\n",
    "- Reactions - need to enrich with connections to biological processes in GO or annotate based on any enzymes that they interact with."
   ]
  },
  {
   "cell_type": "code",
   "execution_count": 17,
   "metadata": {},
   "outputs": [
    {
     "data": {
      "text/plain": [
       "12899"
      ]
     },
     "execution_count": 17,
     "metadata": {},
     "output_type": "execute_result"
    }
   ],
   "source": [
    "unannotated = [\n",
    "    (u, v, k, d)\n",
    "    for u, v, k, d in graph.edges(data=True, keys=True)\n",
    "    if k not in annotated_edge_keys\n",
    "]\n",
    "len(unannotated)"
   ]
  },
  {
   "cell_type": "code",
   "execution_count": 18,
   "metadata": {},
   "outputs": [
    {
     "name": "stdout",
     "output_type": "stream",
     "text": [
      "67f89e8a a(CONSO:\"paired helical filaments\") positiveCorrelation a(CONSO:\"3-3 dityrosine cross-linking\")\n",
      "0937f864 p(MGI:\"chitinase-like 1\") association p(MGI:\"v-rel reticuloendotheliosis viral oncogene homolog A (avian)\")\n",
      "f5e79c99 bp(GO:\"protein K48-linked ubiquitination\") increases act(complex(GO:\"proteasome complex\"))\n",
      "5d31e0e9 complex(p(HGNC:PFDN2), p(HGNC:PFDN2)) hasComponent p(HGNC:PFDN2)\n",
      "a39436f6 p(FPLX:HSP90) hasVariant p(FPLX:HSP90, pmod(Ac))\n",
      "cb80636b path(MESH:Aging) negativeCorrelation a(MESH:\"Cerebrospinal Fluid\")\n",
      "19025c96 rxn(reactants(a(CHEBI:\"D-glyceraldehyde 3-phosphate\"), a(CHEBI:\"dihydroxyacetone phosphate\")), products(a(CHEBI:ATP))) hasReactant a(CHEBI:\"D-glyceraldehyde 3-phosphate\")\n",
      "c7fd2d60 g(HGNC:C9orf72) association p(HGNC:RAB5A)\n",
      "49e016e6 a(MESH:\"Cellular Structures\") association p(FPLX:\"CCT_complex\")\n",
      "f8b989ab a(CHEBI:\"chondroitin sulfate\") decreases tloc(p(CONSO:\"Tau isoform F (441 aa)\"), fromLoc(GO:\"extracellular region\"), toLoc(GO:intracellular))\n",
      "a45c193f bp(GO:cognition) association bp(GO:\"synaptic transmission, glutamatergic\")\n",
      "0e17bf2c complex(a(GO:\"proteasome complex\"), p(HGNC:BAG6)) decreases bp(CONSO:\"protein aggregation\")\n",
      "1db5c824 bp(GO:\"cellular senescence\") association bp(MESH:\"Cell Survival\")\n",
      "653a1194 a(CHEBI:Anatabine) decreases a(CONSO:\"Tau oligomers\")\n",
      "83c31440 p(HGNC:TARDBP) decreases bp(GO:\"autophagosome assembly\")\n"
     ]
    }
   ],
   "source": [
    "for u, v, k, d in random.sample(unannotated, 15):\n",
    "    print(k[:8], graph.edge_to_bel(u, v, d))"
   ]
  }
 ],
 "metadata": {
  "kernelspec": {
   "display_name": "Python 3",
   "language": "python",
   "name": "python3"
  },
  "language_info": {
   "codemirror_mode": {
    "name": "ipython",
    "version": 3
   },
   "file_extension": ".py",
   "mimetype": "text/x-python",
   "name": "python",
   "nbconvert_exporter": "python",
   "pygments_lexer": "ipython3",
   "version": "3.7.3"
  }
 },
 "nbformat": 4,
 "nbformat_minor": 2
}
